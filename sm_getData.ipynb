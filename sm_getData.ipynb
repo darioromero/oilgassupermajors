{
 "cells": [
  {
   "cell_type": "code",
   "execution_count": 1,
   "metadata": {},
   "outputs": [],
   "source": [
    "import sys\n",
    "# !{sys.executable} -m pip install tweepy\n",
    "# !{sys.executable} -m pip install textblob\n",
    "# !{sys.executable} -m pip install wordcloud\n",
    "# !{sys.executable} -m pip install nltk\n",
    "# !{sys.executable} -m pip install twython"
   ]
  },
  {
   "cell_type": "code",
   "execution_count": 2,
   "metadata": {},
   "outputs": [],
   "source": [
    "# Import the necessary libraies and methods\n",
    "import json\n",
    "import numpy as np\n",
    "import pandas as pd\n",
    "import re\n",
    "import warnings\n",
    "\n",
    "# import Variables that contains the user credentials to access Twitter API\n",
    "from twitter_authentication import API_KEY, API_SECRET, ACCESS_TOKEN, ACCESS_TOKEN_SECRET\n",
    "\n",
    "# tweepy is the python client for the official Twitter API\n",
    "from tweepy.streaming import StreamListener\n",
    "from tweepy import OAuthHandler\n",
    "from tweepy import Stream\n",
    "from tweepy import API\n",
    "\n",
    "# textblob is the python library for sentiment analysis\n",
    "from textblob import TextBlob\n",
    "\n",
    "# Visualisation\n",
    "import matplotlib.pyplot as plt\n",
    "import matplotlib\n",
    "import seaborn as sns\n",
    "\n",
    "# wordcloud is a python library for printing a cloud of words\n",
    "from wordcloud import WordCloud, STOPWORDS\n",
    "\n",
    "# nltk\n",
    "from nltk.stem import WordNetLemmatizer\n",
    "from nltk.sentiment.vader import SentimentIntensityAnalyzer\n",
    "from nltk.sentiment.util import *\n",
    "from nltk import tokenize\n",
    "\n",
    "# set the matplotlib style\n",
    "matplotlib.style.use('ggplot')\n",
    "\n",
    "%matplotlib inline"
   ]
  },
  {
   "cell_type": "code",
   "execution_count": 3,
   "metadata": {},
   "outputs": [
    {
     "name": "stdout",
     "output_type": "stream",
     "text": [
      "(85, ['@amyaharder', '@ayataanalytics', '@bggroup', '@bloombergnrg', '@boonepickens', '@bp_america', '@bp_plc', '@bp_uk', '@chevron', '@davidshellblog', '@derek_brower', '@eiagov', '@emilypickrell', '@energyindepth', '@energyintel', '@eni', '@exxonmobil', '@exxonmobil_ak', '@exxonmobil_aus', '@exxonmobil_eu', '@exxonmobil_id', '@exxonmobil_ng', '@exxonmobil_qa', '@exxonmobil_uk', '@fpsonetwork', '@gaurav81184', '@greentechmedia', '@ierenergy', '@ihsmarkit', '@iraqoilreport', '@jonathanfahey', '@jpolson9', '@kategalbraith', '@laoilgasassoc', '@marcellusmin', '@michaelkamon', '@mwtnews', '@nelderini', '@nrginstitute', '@offshoremgzn', '@ogjonline', '@oil_recruitment', '@oilandgasinvest', '@oilandgasiq', '@oilandgasnews', '@oilandgasuk', '@oilgascanada', '@oilgasmalaysia', '@oilsandseditor', '@oilvoice', '@ooga_hq', '@patrickosgood', '@petroleumecon', '@plattsoil', '@portxlglobal', '@psdvi', '@pvmagazineusa', '@pwypusa', '@reemaharfoushi', '@rigdata', '@rigzone', '@robinenergy', '@saeverley', '@saudi_aramco', '@shell', '@shell_canada', '@shell_india', '@shell_natgas', '@shell_nigeria', '@shell_ukltd', '@shell_us', '@spglobalratings', '@stevelevine', '@tapmanagement', '@terrymac999', '@tfoxlaw', '@theoildrum', '@theoilprice', '@total', '@twitoil', '@ukerchq', '@upstreamonline', '@wenkennedy', '@worldoil', '@worldoilngas'])\n"
     ]
    }
   ],
   "source": [
    "#This line filter Twitter Streams to capture data by the keywords included in TAGS variable\n",
    "TAGS = ['@PetroleumEcon', '@IHSMarkit', '@PWYPUSA', '@SPGlobalRatings', '@energyintel', '@michaelkamon', \n",
    "        '@pvmagazineusa', '@mwtnews', '@NRGInstitute', '@WorldOil', '@robinenergy', '@PortXLglobal', \n",
    "        '@UpstreamOnline', '@greentechmedia', '@PlattsOil', '@AyataAnalytics', '@OilandGasIQ', '@oil_recruitment', \n",
    "        '@Gaurav81184', '@ReemaHarfoushi', '@EIAgov', '@tfoxlaw', '@tapmanagement', '@boonepickens', '@EmilyPickrell', \n",
    "        '@Chevron', '@IERenergy', '@TheOilDrum', '@FPSONetwork', '@OilsandsEditor', '@Shell_NatGas', '@iraqoilreport', \n",
    "        '@jpolson9', '@BloombergNRG', '@oilandgasnews', '@OilGasMalaysia', '@UKERCHQ', '@OilGasCanada', '@ooga_hq', \n",
    "        '@OilandGasInvest', '@robinenergy', '@derek_brower', '@theoilprice', '@stevelevine', '@marcellusmin', \n",
    "        '@AmyAHarder', '@saeverley', '@davidshellblog', '@KateGalbraith', '@oilandgasuk', '@TerryMac999', '@BP_America', \n",
    "        '@RigData', '@LaOilGasAssoc', '@Shell', '@BGGroup', '@nelderini', '@PatrickOsgood', '@JonathanFahey', \n",
    "        '@wenkennedy', '@psdvi', '@EnergyInDepth', '@exxonmobil', '@twitoil', '@Saudi_Aramco', '@Total', \n",
    "        '@offshoremgzn', '@Chevron', '@OGJOnline', '@OilVoice', '@BP_plc', '@Rigzone', '@UpstreamOnline', '@OilandGasIQ', \n",
    "        '@WorldOil', '@worldoilngas', '@ExxonMobil', '@ExxonMobil_UK', '@ExxonMobil_EU', '@ExxonMobil_NG', '@ExxonMobil_ID', \n",
    "        '@exxonmobil_qa', '@exxonmobil_aus', '@ExxonMobil_AK', '@Shell', '@Shell_UKLtd', '@Shell_US', '@Shell_Canada', \n",
    "        '@Shell_Nigeria', '@Shell_India', '@eni', '@BP_UK']\n",
    "\n",
    "# sort a list\n",
    "def sortList(list):\n",
    "    return list.sort(key=str.lower)\n",
    "\n",
    "# set to lower case elements in a list\n",
    "def lcase(list):\n",
    "    l = [a.lower() for a in list]\n",
    "    return l\n",
    "\n",
    "# remove duplicates in a list\n",
    "def remove_dup_inlist(onelist):\n",
    "    return list(set(onelist))\n",
    "\n",
    "TAGS = lcase(TAGS)\n",
    "TAGS = remove_dup_inlist(TAGS)\n",
    "sortList(TAGS)\n",
    "\n",
    "print((len(TAGS), TAGS))"
   ]
  },
  {
   "cell_type": "code",
   "execution_count": 4,
   "metadata": {},
   "outputs": [],
   "source": [
    "# this handles Twitter authentication \n",
    "auth = OAuthHandler(API_KEY, API_SECRET)\n",
    "auth.set_access_token(ACCESS_TOKEN, ACCESS_TOKEN_SECRET)\n",
    "\n",
    "api = API(auth, wait_on_rate_limit=True)   # it will wait instead of failing, when rate limit is reached"
   ]
  },
  {
   "cell_type": "code",
   "execution_count": 5,
   "metadata": {},
   "outputs": [],
   "source": [
    "MAX_TWEETS = 100\n",
    "LANG = 'en'\n",
    "\n",
    "# saving tweets by TAG\n",
    "df_tweets = pd.DataFrame({'tag':[], 'text':[]}) # temporary empty dataframe\n",
    "for tag in TAGS:\n",
    "    # fetch tweets of a particular 'tag'\n",
    "    query = tag\n",
    "    tweets = api.search(q=query, count=MAX_TWEETS, lang=LANG)\n",
    "    for tweet in tweets:\n",
    "        df = pd.DataFrame({'tag':tag, 'text':tweet.text}, index=df_tweets.columns)\n",
    "        df_tweets = df_tweets.append(df, ignore_index=True)"
   ]
  },
  {
   "cell_type": "code",
   "execution_count": 6,
   "metadata": {},
   "outputs": [
    {
     "data": {
      "text/html": [
       "<div>\n",
       "<style scoped>\n",
       "    .dataframe tbody tr th:only-of-type {\n",
       "        vertical-align: middle;\n",
       "    }\n",
       "\n",
       "    .dataframe tbody tr th {\n",
       "        vertical-align: top;\n",
       "    }\n",
       "\n",
       "    .dataframe thead th {\n",
       "        text-align: right;\n",
       "    }\n",
       "</style>\n",
       "<table border=\"1\" class=\"dataframe\">\n",
       "  <thead>\n",
       "    <tr style=\"text-align: right;\">\n",
       "      <th></th>\n",
       "      <th>tag</th>\n",
       "      <th>text</th>\n",
       "    </tr>\n",
       "  </thead>\n",
       "  <tbody>\n",
       "    <tr>\n",
       "      <th>0</th>\n",
       "      <td>@amyaharder</td>\n",
       "      <td>RT @AmyAHarder: In early January I laid out ei...</td>\n",
       "    </tr>\n",
       "    <tr>\n",
       "      <th>1</th>\n",
       "      <td>@amyaharder</td>\n",
       "      <td>RT @AmyAHarder: In early January I laid out ei...</td>\n",
       "    </tr>\n",
       "    <tr>\n",
       "      <th>2</th>\n",
       "      <td>@amyaharder</td>\n",
       "      <td>@AmyAHarder Israel's red lines may not matter ...</td>\n",
       "    </tr>\n",
       "    <tr>\n",
       "      <th>3</th>\n",
       "      <td>@amyaharder</td>\n",
       "      <td>@AmyAHarder Israel's red lines may not matter ...</td>\n",
       "    </tr>\n",
       "    <tr>\n",
       "      <th>4</th>\n",
       "      <td>@amyaharder</td>\n",
       "      <td>RT @AmyAHarder: One conservative on EPA's effo...</td>\n",
       "    </tr>\n",
       "    <tr>\n",
       "      <th>5</th>\n",
       "      <td>@amyaharder</td>\n",
       "      <td>RT @AmyAHarder: One conservative on EPA's effo...</td>\n",
       "    </tr>\n",
       "    <tr>\n",
       "      <th>6</th>\n",
       "      <td>@amyaharder</td>\n",
       "      <td>RT @RLewis_UIowa: Interesting predictions -- &amp;...</td>\n",
       "    </tr>\n",
       "    <tr>\n",
       "      <th>7</th>\n",
       "      <td>@amyaharder</td>\n",
       "      <td>RT @RLewis_UIowa: Interesting predictions -- &amp;...</td>\n",
       "    </tr>\n",
       "    <tr>\n",
       "      <th>8</th>\n",
       "      <td>@amyaharder</td>\n",
       "      <td>RT @AmyAHarder: In early January I laid out ei...</td>\n",
       "    </tr>\n",
       "    <tr>\n",
       "      <th>9</th>\n",
       "      <td>@amyaharder</td>\n",
       "      <td>RT @AmyAHarder: In early January I laid out ei...</td>\n",
       "    </tr>\n",
       "  </tbody>\n",
       "</table>\n",
       "</div>"
      ],
      "text/plain": [
       "           tag                                               text\n",
       "0  @amyaharder  RT @AmyAHarder: In early January I laid out ei...\n",
       "1  @amyaharder  RT @AmyAHarder: In early January I laid out ei...\n",
       "2  @amyaharder  @AmyAHarder Israel's red lines may not matter ...\n",
       "3  @amyaharder  @AmyAHarder Israel's red lines may not matter ...\n",
       "4  @amyaharder  RT @AmyAHarder: One conservative on EPA's effo...\n",
       "5  @amyaharder  RT @AmyAHarder: One conservative on EPA's effo...\n",
       "6  @amyaharder  RT @RLewis_UIowa: Interesting predictions -- &...\n",
       "7  @amyaharder  RT @RLewis_UIowa: Interesting predictions -- &...\n",
       "8  @amyaharder  RT @AmyAHarder: In early January I laid out ei...\n",
       "9  @amyaharder  RT @AmyAHarder: In early January I laid out ei..."
      ]
     },
     "execution_count": 6,
     "metadata": {},
     "output_type": "execute_result"
    }
   ],
   "source": [
    "# show some tweets\n",
    "df_tweets.head(10)"
   ]
  },
  {
   "cell_type": "code",
   "execution_count": 9,
   "metadata": {},
   "outputs": [],
   "source": [
    "df_tweets.drop_duplicates(inplace=True)"
   ]
  },
  {
   "cell_type": "code",
   "execution_count": 10,
   "metadata": {},
   "outputs": [
    {
     "data": {
      "text/html": [
       "<div>\n",
       "<style scoped>\n",
       "    .dataframe tbody tr th:only-of-type {\n",
       "        vertical-align: middle;\n",
       "    }\n",
       "\n",
       "    .dataframe tbody tr th {\n",
       "        vertical-align: top;\n",
       "    }\n",
       "\n",
       "    .dataframe thead th {\n",
       "        text-align: right;\n",
       "    }\n",
       "</style>\n",
       "<table border=\"1\" class=\"dataframe\">\n",
       "  <thead>\n",
       "    <tr style=\"text-align: right;\">\n",
       "      <th></th>\n",
       "      <th>tag</th>\n",
       "      <th>text</th>\n",
       "    </tr>\n",
       "  </thead>\n",
       "  <tbody>\n",
       "    <tr>\n",
       "      <th>0</th>\n",
       "      <td>@amyaharder</td>\n",
       "      <td>RT @AmyAHarder: In early January I laid out ei...</td>\n",
       "    </tr>\n",
       "    <tr>\n",
       "      <th>2</th>\n",
       "      <td>@amyaharder</td>\n",
       "      <td>@AmyAHarder Israel's red lines may not matter ...</td>\n",
       "    </tr>\n",
       "    <tr>\n",
       "      <th>4</th>\n",
       "      <td>@amyaharder</td>\n",
       "      <td>RT @AmyAHarder: One conservative on EPA's effo...</td>\n",
       "    </tr>\n",
       "    <tr>\n",
       "      <th>6</th>\n",
       "      <td>@amyaharder</td>\n",
       "      <td>RT @RLewis_UIowa: Interesting predictions -- &amp;...</td>\n",
       "    </tr>\n",
       "    <tr>\n",
       "      <th>16</th>\n",
       "      <td>@amyaharder</td>\n",
       "      <td>RT @AmyAHarder: Six months into the year, here...</td>\n",
       "    </tr>\n",
       "    <tr>\n",
       "      <th>22</th>\n",
       "      <td>@amyaharder</td>\n",
       "      <td>Interesting predictions -- &amp;amp; progress repo...</td>\n",
       "    </tr>\n",
       "    <tr>\n",
       "      <th>24</th>\n",
       "      <td>@amyaharder</td>\n",
       "      <td>@AmyAHarder For 2019, I would add Supreme Cour...</td>\n",
       "    </tr>\n",
       "    <tr>\n",
       "      <th>26</th>\n",
       "      <td>@amyaharder</td>\n",
       "      <td>@AmyAHarder hi. In your opinion will epa rollb...</td>\n",
       "    </tr>\n",
       "    <tr>\n",
       "      <th>32</th>\n",
       "      <td>@amyaharder</td>\n",
       "      <td>RT @AmyAHarder: My latest Harder Line column: ...</td>\n",
       "    </tr>\n",
       "    <tr>\n",
       "      <th>34</th>\n",
       "      <td>@amyaharder</td>\n",
       "      <td>@AmyAHarder sees momentum for US carbon tax. “...</td>\n",
       "    </tr>\n",
       "  </tbody>\n",
       "</table>\n",
       "</div>"
      ],
      "text/plain": [
       "            tag                                               text\n",
       "0   @amyaharder  RT @AmyAHarder: In early January I laid out ei...\n",
       "2   @amyaharder  @AmyAHarder Israel's red lines may not matter ...\n",
       "4   @amyaharder  RT @AmyAHarder: One conservative on EPA's effo...\n",
       "6   @amyaharder  RT @RLewis_UIowa: Interesting predictions -- &...\n",
       "16  @amyaharder  RT @AmyAHarder: Six months into the year, here...\n",
       "22  @amyaharder  Interesting predictions -- &amp; progress repo...\n",
       "24  @amyaharder  @AmyAHarder For 2019, I would add Supreme Cour...\n",
       "26  @amyaharder  @AmyAHarder hi. In your opinion will epa rollb...\n",
       "32  @amyaharder  RT @AmyAHarder: My latest Harder Line column: ...\n",
       "34  @amyaharder  @AmyAHarder sees momentum for US carbon tax. “..."
      ]
     },
     "execution_count": 10,
     "metadata": {},
     "output_type": "execute_result"
    }
   ],
   "source": [
    "# show some (unduplicated) tweets\n",
    "df_tweets.head(10)"
   ]
  },
  {
   "cell_type": "code",
   "execution_count": 11,
   "metadata": {},
   "outputs": [
    {
     "data": {
      "text/plain": [
       "2678"
      ]
     },
     "execution_count": 11,
     "metadata": {},
     "output_type": "execute_result"
    }
   ],
   "source": [
    "len(df_tweets['text'])"
   ]
  },
  {
   "cell_type": "code",
   "execution_count": null,
   "metadata": {},
   "outputs": [],
   "source": [
    "# Preprocessing of tweets and cleaning special characters\n",
    "# TODO"
   ]
  },
  {
   "cell_type": "code",
   "execution_count": null,
   "metadata": {},
   "outputs": [],
   "source": [
    "#add tweetos first part\n",
    "for i in range(len(df_tweets['text'])):\n",
    "    try:\n",
    "        df_tweets['tweetos'][i] = df_tweets['text'].str.split(' ')[i][0]\n",
    "    except AttributeError:    \n",
    "        df_tweets['tweetos'][i] = 'other'\n",
    "\n",
    "#Preprocessing tweetos. select tweetos contains 'RT @'\n",
    "for i in range(len(df_tweets['text'])):\n",
    "    if df_tweets['tweetos'].str.contains('@')[i]  == False:\n",
    "        df_tweets['tweetos'][i] = 'other'\n",
    "        \n",
    "# remove URLs, RTs, and twitter handles\n",
    "for i in range(len(df_tweets['text'])):\n",
    "    df_tweets['text'][i] = \" \".join([word for word in df_tweets['text'][i].split()\n",
    "                                if 'http' not in word and '@' not in word and '<' not in word])"
   ]
  },
  {
   "cell_type": "code",
   "execution_count": null,
   "metadata": {},
   "outputs": [],
   "source": [
    "# df_tweets.loc[['tweetos', 'tag', 'text']][:5]\n",
    "df_tweets[:5]"
   ]
  },
  {
   "cell_type": "code",
   "execution_count": null,
   "metadata": {},
   "outputs": [],
   "source": [
    "# tweets_string = list(set(df_tweets['text'].values))\n",
    "# tweets_string"
   ]
  },
  {
   "cell_type": "code",
   "execution_count": null,
   "metadata": {},
   "outputs": [],
   "source": [
    "tweets['text'][1]"
   ]
  },
  {
   "cell_type": "code",
   "execution_count": null,
   "metadata": {},
   "outputs": [],
   "source": [
    "def get_tweet_sentiment(tweet):\n",
    "        \n",
    "        # create TextBlob object of passed tweet text\n",
    "        analysis = TextBlob(self.trim_tweet(tweet))\n",
    "\n",
    "        # set sentiment\n",
    "        if analysis.sentiment.polarity > 0:\n",
    "            return 'positive'\n",
    "        elif analysis.sentiment.polarity == 0:\n",
    "            return 'neutral'\n",
    "        else:\n",
    "            return 'negative'"
   ]
  },
  {
   "cell_type": "code",
   "execution_count": null,
   "metadata": {},
   "outputs": [],
   "source": [
    "pd.set_option(\"display.max_columns\", 200)\n",
    "df_tweets.text.values[:5]"
   ]
  },
  {
   "cell_type": "code",
   "execution_count": null,
   "metadata": {},
   "outputs": [],
   "source": [
    "df_tweets.tail().values"
   ]
  },
  {
   "cell_type": "code",
   "execution_count": null,
   "metadata": {},
   "outputs": [],
   "source": [
    "# visualization with wordcloud\n",
    "def wordcloud(tweets, col):\n",
    "    stopwords = set(STOPWORDS)\n",
    "    wordcloud = WordCloud(background_color=\"white\",stopwords=stopwords,random_state = 123).generate(\" \".join([i for i in tweets[col]]))\n",
    "    plt.figure(figsize=(20,10), facecolor='k')\n",
    "    plt.imshow(wordcloud)\n",
    "    plt.axis(\"off\")\n",
    "    plt.title(\"Common Words on Tweets of SuperMajors\")\n",
    "# wordcloud(tweets,'text')"
   ]
  }
 ],
 "metadata": {
  "kernelspec": {
   "display_name": "Python 3.6",
   "language": "python",
   "name": "python3"
  },
  "language_info": {
   "codemirror_mode": {
    "name": "ipython",
    "version": 3
   },
   "file_extension": ".py",
   "mimetype": "text/x-python",
   "name": "python",
   "nbconvert_exporter": "python",
   "pygments_lexer": "ipython3",
   "version": "3.6.4"
  }
 },
 "nbformat": 4,
 "nbformat_minor": 2
}
