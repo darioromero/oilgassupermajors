{
 "cells": [
  {
   "cell_type": "markdown",
   "metadata": {},
   "source": [
    "# **Sentiment Analysis of Oil & Gas Supermajors**"
   ]
  },
  {
   "cell_type": "markdown",
   "metadata": {},
   "source": [
    "## 01.- Definition:\n",
    "- In essence, it is the process of determining the emotional tone behind a series of words, used to gain an understanding of the the attitudes, opinions and emotions expressed within an online mention. (Kristian Bannister - Senior Marketing Manager)\n",
    "\n",
    "- It is the process of computationally identifying and categorizing opinions expressed in a piece of text, especially in order to determine whether the writer's attitude towards a particular topic, product, etc. is positive, negative, or neutral. (Peter Nagy - Kaggle)\n",
    "\n",
    "## 02.- Objective:\n",
    "- to gain an overview of a wider public opinion behind the oil & gas market and how is seen by the supermajors and the specialists, investors and  journalists dedicated to the energy market.\n",
    "\n",
    "## 03.- Relevance:\n",
    "\n",
    "- Shifts in sentiment on social media have been shown to correlate with shifts in the stock market.<p>\n",
    "- We take all the words and phrases that imply positive or negative sentiment and apply rules that consider how context might affect the tone of the content.<p>\n",
    "- Carefully crafted rules help the software know when a sentence is positive or negative; neutral sentences will be considered when substracting all positive and negative sentiments from the entire dataset."
   ]
  },
  {
   "cell_type": "markdown",
   "metadata": {},
   "source": [
    "> -----"
   ]
  },
  {
   "cell_type": "markdown",
   "metadata": {},
   "source": [
    "## 04.1.- Generic Workflow for Predicting Sentiment\n",
    "The following diagram shows a general overview of the approach we will use for this modeling problem. The Tweets from Market Analysts and Investing Advisors will be used on the dataset for Training and Testing. The expressed sentiment will be the target column obtained using the textblob library.\n",
    "\n",
    "In a second approach we will be using the model with all sentiment validated in a LSTM Deep Neural Network to see how the network is able to predict new samples (now from the tweets of the Super Majors) to predict its sentiment attitude."
   ]
  },
  {
   "cell_type": "markdown",
   "metadata": {},
   "source": [
    "![Sentiment Analysis - Generic Workflow](images/generic_workflow.jpg \"Sentiment Analysis\")"
   ]
  },
  {
   "cell_type": "markdown",
   "metadata": {},
   "source": [
    "## 04.2.- References:\n",
    "1 - [Twitter Analysis with Python](https://datascienceplus.com/twitter-analysis-with-python/)</p>\n",
    "2 - [Mining Twitter Data with Python](https://marcobonzanini.com/2015/05/17/mining-twitter-data-with-python-part-6-sentiment-analysis-basics/)</p>\n",
    "3 - [Basic data analysis on Twitter with Python](https://medium.freecodecamp.org/basic-data-analysis-on-twitter-with-python-251c2a85062e)</p>\n",
    "4 - [Twitter Sentiment Analysis using Python](https://www.geeksforgeeks.org/twitter-sentiment-analysis-using-python/)</p>\n",
    "5 - [Sentiment detection with Keras, word embeddings and LSTM deep learning networks](https://www.liip.ch/en/blog/sentiment-detection-with-keras-word-embeddings-and-lstm-deep-learning-networks)</p>\n",
    "6 - [models.word2vec – Word2vec embeddings](https://radimrehurek.com/gensim/models/word2vec.html)</p>\n",
    "7 - [Sense2Vec with SpaCy and Gensim](https://explosion.ai/blog/sense2vec-with-spacy)</p>\n",
    "8 - [Learn Word2Vec by implementing it in tensorflow](https://towardsdatascience.com/learn-word2vec-by-implementing-it-in-tensorflow-45641adaf2ac)</p>\n",
    "9 - [Pre-trained word embeddings](https://github.com/keras-team/keras/blob/master/examples/pretrained_word_embeddings.py)</p>\n",
    "10 - [Application Management with Twitter API](https://apps.twitter.com/)</p>\n",
    "11 - [Support on Python Syntax and Examples](https://stackoverflow.com/)</p>\n",
    "12 - [Word2Vec Tutorial - The Skip-Gram Model](http://mccormickml.com/2016/04/19/word2vec-tutorial-the-skip-gram-model/)</p>\n",
    "13 - [Representing Words](http://veredshwartz.blogspot.com/2016/01/representing-words.html)</p>\n",
    "14 - [How to Use Word Embeddings Layers for Deep Learning with Keras](https://machinelearningmastery.com/use-word-embedding-layers-deep-learning-keras/)</p>\n",
    "15 - [Using pre-trained word embeddings in a Keras model](https://blog.keras.io/using-pre-trained-word-embeddings-in-a-keras-model.html)</p>\n",
    "16 - [Word2Vec with Tensorflow](https://github.com/minsuk-heo/python_tutorial/blob/master/data_science/nlp/word2vec_tensorflow.ipynb)</p>\n",
    "17 - [Understanding Sentiment Analysis: What It Is & Why It’s Used](https://www.brandwatch.com/blog/understanding-sentiment-analysis/)</p>\n",
    "18 - [Sentiment Analysis on the First Republic Party debate in 2016](https://github.com/nagypeterjob/Sentiment-Analysis-NLTK-ML-LSTM)</p>\n",
    "19 - [Getting Started with Sentiment Analysis](https://nlpforhackers.io/sentiment-analysis-intro/)</p>\n",
    "20 - [Sentiment detection with Keras, word embeddings and LSTM deep learning networks](https://www.liip.ch/en/blog/sentiment-detection-with-keras-word-embeddings-and-lstm-deep-learning-networks)</p>"
   ]
  },
  {
   "cell_type": "markdown",
   "metadata": {},
   "source": [
    "## 05.- Installing and Importing key Libraries"
   ]
  },
  {
   "cell_type": "code",
   "execution_count": 1,
   "metadata": {},
   "outputs": [
    {
     "name": "stderr",
     "output_type": "stream",
     "text": [
      "Using TensorFlow backend.\n"
     ]
    }
   ],
   "source": [
    "# Import the necessary libraies and methods\n",
    "import json\n",
    "import numpy as np\n",
    "import pandas as pd\n",
    "import re\n",
    "import warnings\n",
    "\n",
    "# import Variables that contains the user credentials to access Twitter API\n",
    "from twitter_authentication import API_KEY, API_SECRET, ACCESS_TOKEN, ACCESS_TOKEN_SECRET\n",
    "\n",
    "# tweepy is the python client for the official Twitter API\n",
    "from tweepy.streaming import StreamListener\n",
    "from tweepy import OAuthHandler\n",
    "from tweepy import Stream\n",
    "from tweepy import API\n",
    "from tweepy import TweepError\n",
    "\n",
    "# textblob is the python library for sentiment analysis\n",
    "from textblob import TextBlob\n",
    "\n",
    "# Visualisation\n",
    "import matplotlib.pyplot as plt\n",
    "import matplotlib\n",
    "import seaborn as sns\n",
    "%matplotlib inline\n",
    "\n",
    "# wordcloud is a python library for printing a cloud of words\n",
    "from wordcloud import WordCloud, STOPWORDS\n",
    "\n",
    "# nltk\n",
    "from nltk.stem import WordNetLemmatizer\n",
    "from nltk.sentiment.vader import SentimentIntensityAnalyzer\n",
    "from nltk.sentiment.util import *\n",
    "from nltk import tokenize\n",
    "\n",
    "# keras\n",
    "from sklearn.feature_extraction.text import CountVectorizer\n",
    "from keras.preprocessing.text import Tokenizer\n",
    "from keras.preprocessing.sequence import pad_sequences\n",
    "from keras.models import Sequential\n",
    "from keras.layers import Dense, Embedding, LSTM, SpatialDropout1D, Dropout\n",
    "from sklearn.model_selection import train_test_split\n",
    "from keras.utils.np_utils import to_categorical\n",
    "import re\n",
    "\n",
    "# set the matplotlib style\n",
    "matplotlib.style.use('ggplot')"
   ]
  },
  {
   "cell_type": "markdown",
   "metadata": {},
   "source": [
    "## 06.- Suggested List of Tweets Tags -- Including supermajors and energy analysts"
   ]
  },
  {
   "cell_type": "code",
   "execution_count": 2,
   "metadata": {},
   "outputs": [
    {
     "name": "stdout",
     "output_type": "stream",
     "text": [
      "(105, ['@2020upstream', '@alexanderyf', '@amyaharder', '@ayataanalytics', '@bggroup', '@bloombergnrg', '@boonepickens', '@bp_america', '@bp_plc', '@bp_uk', '@chevron', '@chris1reuters', '@colinbaines1', '@davidshellblog', '@derek_brower', '@drbailey_petro', '@eamonryan', '@eiagov', '@emilypickrell', '@energy', '@energyindepth', '@energyinnovllc', '@energyintel', '@eni', '@exxonmobil', '@exxonmobil_ak', '@exxonmobil_aus', '@exxonmobil_eu', '@exxonmobil_id', '@exxonmobil_ng', '@exxonmobil_qa', '@exxonmobil_uk', '@fpsonetwork', '@gaurav81184', '@greentechmedia', '@gregormacdonald', '@henrikzeberg', '@ierenergy', '@ihsmarkit', '@iraqoilreport', '@isadora_wronski', '@jonathanfahey', '@jpolson9', '@jsg2050', '@kategalbraith', '@katetcpa', '@laoilgasassoc', '@lauraelkatiri', '@marcellusmin', '@michaelkamon', '@mwtnews', '@nelderini', '@nrginstitute', '@offshoremgzn', '@ogjonline', '@oil_recruitment', '@oilandgasinvest', '@oilandgasiq', '@oilandgasnews', '@oilandgasuk', '@oilgascanada', '@oilgasmalaysia', '@oilsandseditor', '@oilvoice', '@ooga_hq', '@patrickosgood', '@petroleumecon', '@plattsoil', '@portxlglobal', '@psdvi', '@pvmagazineusa', '@pwypusa', '@reemaharfoushi', '@rigdata', '@rigzone', '@robinenergy', '@saeverley', '@saudi_aramco', '@schuldensuehner', '@shell', '@shell_canada', '@shell_india', '@shell_natgas', '@shell_nigeria', '@shell_ukltd', '@shell_us', '@spglobalratings', '@stevelevine', '@stollmeyereu', '@sustainable2050', '@tapmanagement', '@terrymac999', '@tfoxlaw', '@theoildrum', '@theoilprice', '@total', '@twitoil', '@ukerchq', '@upstreamonline', '@vanderhoevenn_m', '@vtchacarova', '@wenkennedy', '@world_oil_price', '@worldoil', '@worldoilngas'])\n"
     ]
    }
   ],
   "source": [
    "#This line filter Twitter Streams to capture data by the keywords included in TAGS variable\n",
    "TAGS = ['@PetroleumEcon', '@IHSMarkit', '@PWYPUSA', '@SPGlobalRatings', \n",
    "        '@energyintel', '@michaelkamon', '@pvmagazineusa', '@mwtnews', \n",
    "        '@NRGInstitute', '@WorldOil', '@robinenergy', '@PortXLglobal', \n",
    "        '@UpstreamOnline', '@greentechmedia', '@PlattsOil', '@AyataAnalytics', \n",
    "        '@OilandGasIQ', '@oil_recruitment', '@Gaurav81184', '@ReemaHarfoushi', \n",
    "        '@EIAgov', '@tfoxlaw', '@tapmanagement', '@boonepickens', \n",
    "        '@EmilyPickrell', '@Chevron', '@IERenergy', '@TheOilDrum', \n",
    "        '@FPSONetwork', '@GregorMacdonald', '@lauraelkatiri', '@StollmeyerEU', \n",
    "        '@EamonRyan', '@colinbaines1', '@sustainable2050', '@VanderHoevenn_M', \n",
    "        '@JSG2050', '@KateTCPA', '@Isadora_Wronski', '@EnergyInnovLLC', \n",
    "        '@ENERGY', '@Schuldensuehner', '@vtchacarova', '@Chris1reuters', \n",
    "        '@alexanderYf', '@HenrikZeberg', '@World_Oil_Price', '@DrBailey_Petro', \n",
    "        '@OilsandsEditor', '@Shell_NatGas', '@iraqoilreport', '@jpolson9', \n",
    "        '@BloombergNRG', '@oilandgasnews', '@OilGasMalaysia', '@UKERCHQ', \n",
    "        '@OilGasCanada', '@ooga_hq', '@OilandGasInvest', '@robinenergy', \n",
    "        '@derek_brower', '@theoilprice', '@stevelevine', '@marcellusmin', \n",
    "        '@AmyAHarder', '@saeverley', '@davidshellblog', '@KateGalbraith', \n",
    "        '@oilandgasuk', '@TerryMac999', '@BP_America', '@RigData', \n",
    "        '@LaOilGasAssoc', '@Shell', '@BGGroup', '@nelderini', \n",
    "        '@PatrickOsgood', '@JonathanFahey', '@wenkennedy', '@psdvi', \n",
    "        '@EnergyInDepth', '@exxonmobil', '@twitoil', '@Saudi_Aramco', \n",
    "        '@Total', '@offshoremgzn', '@Chevron', '@OGJOnline', \n",
    "        '@OilVoice', '@BP_plc', '@Rigzone', '@UpstreamOnline', \n",
    "        '@OilandGasIQ', '@WorldOil', '@worldoilngas', '@ExxonMobil', \n",
    "        '@ExxonMobil_UK', '@ExxonMobil_EU', '@ExxonMobil_NG', '@ExxonMobil_ID', \n",
    "        '@exxonmobil_qa', '@exxonmobil_aus', '@ExxonMobil_AK', '@Shell', \n",
    "        '@Shell_UKLtd', '@Shell_US', '@Shell_Canada', '@Shell_Nigeria', \n",
    "        '@Shell_India', '@eni', '@BP_UK', '@2020Upstream']\n",
    "\n",
    "# sort a list\n",
    "def sortList(list):\n",
    "    return list.sort(key=str.lower)\n",
    "\n",
    "# set to lower case elements in a list\n",
    "def lcase(list):\n",
    "    l = [a.lower() for a in list]\n",
    "    return l\n",
    "\n",
    "# remove duplicates in a list\n",
    "def remove_dup_inlist(onelist):\n",
    "    return list(set(onelist))\n",
    "\n",
    "TAGS = lcase(TAGS)\n",
    "TAGS = remove_dup_inlist(TAGS)\n",
    "sortList(TAGS)\n",
    "\n",
    "print((len(TAGS), TAGS))"
   ]
  },
  {
   "cell_type": "markdown",
   "metadata": {},
   "source": [
    "## 07.- Twitter API Authentication"
   ]
  },
  {
   "cell_type": "code",
   "execution_count": 3,
   "metadata": {},
   "outputs": [],
   "source": [
    "# this handles Twitter authentication -- see reference 10 for details\n",
    "auth = OAuthHandler(API_KEY, API_SECRET)\n",
    "auth.set_access_token(ACCESS_TOKEN, ACCESS_TOKEN_SECRET)\n",
    "\n",
    "api = API(auth, wait_on_rate_limit=True)   # it will wait instead of failing, when rate limit is reached"
   ]
  },
  {
   "cell_type": "code",
   "execution_count": 4,
   "metadata": {},
   "outputs": [],
   "source": [
    "MAX_TWEETS = 100\n",
    "LANG = 'en'"
   ]
  },
  {
   "cell_type": "markdown",
   "metadata": {},
   "source": [
    "## 08.- Useful functions to modularize the code"
   ]
  },
  {
   "cell_type": "code",
   "execution_count": 14,
   "metadata": {},
   "outputs": [],
   "source": [
    "# clean tweet from unnecessary characters -- needs further polish\n",
    "def clean_tweet(tweet_text):\n",
    "    data = pd.DataFrame([], columns=['text'], index=[0])\n",
    "    data.iloc[0] = tweet_text\n",
    "    data.iloc[0] = data.iloc[0].apply(lambda x: re.sub('RT\\s\\@[a-zA-Z0-9]*\\:\\s', '', x)) # eliminating 'RT ' from the tweets\n",
    "    data.iloc[0] = data.iloc[0].apply(lambda x: x.lower())\n",
    "    data.iloc[0] = data.iloc[0].apply(lambda x: re.sub('\\n', '', x))\n",
    "    data.iloc[0] = data.iloc[0].apply(lambda x: re.sub('(http|https)\\:\\/{2}[a-zA-Z0-9\\-\\.\\/]*', '', x))\n",
    "    data.iloc[0] = data.iloc[0].apply(lambda x: re.sub('(\\#|\\@)[a-zA-Z0-9]*', '', x))    \n",
    "    data.iloc[0] = data.iloc[0].apply(lambda x: re.sub('\\srt\\s', '', x))\n",
    "    data.iloc[0] = data.iloc[0].apply((lambda x: re.sub('^a-zA-Z0-9\\s','',x)))\n",
    "    \n",
    "    return data.iloc[0]['text'].strip()"
   ]
  },
  {
   "cell_type": "code",
   "execution_count": 15,
   "metadata": {},
   "outputs": [],
   "source": [
    "# quality tweet sentiment based on textblob library\n",
    "# Other libraries are also useful for this like NLTK, and LSTM with Tensorflow (more complicated)\n",
    "def get_tweet_sentiment(clean_tweet_text):\n",
    "    # get sentiment from a tweet 'text'\n",
    "    analysis = TextBlob(clean_tweet_text)\n",
    "    # set sentiment\n",
    "    if analysis.sentiment.polarity > 0:\n",
    "        return 'positive'\n",
    "    elif analysis.sentiment.polarity == 0:\n",
    "        return 'neutral'\n",
    "    else:\n",
    "        return 'negative'\n",
    "\n",
    "# get tweets based on a particular tag and store them in a list\n",
    "def get_tweets(query, max_tweets = 10, lang='en'):\n",
    "    try:\n",
    "        # call twitter api to fetch tweets\n",
    "        fetched_tweets = api.search(q = query, count = max_tweets, lang=lang)\n",
    "        # parsing tweets one by one\n",
    "        for tweet in fetched_tweets:\n",
    "            \n",
    "            # empty dictionary to store required params of a tweet\n",
    "            parsed_tweet = {}\n",
    "\n",
    "            # saving a clean text of tweet\n",
    "            parsed_tweet['text'] = clean_tweet(tweet.text)\n",
    "            \n",
    "            # saving sentiment of tweet\n",
    "            parsed_tweet['sentiment'] = get_tweet_sentiment(parsed_tweet['text'])\n",
    "\n",
    "            # appending parsed tweet to tweets list\n",
    "            if tweet.retweet_count > 0:\n",
    "                # if tweet has retweets, ensure that it is appended only once\n",
    "                if parsed_tweet not in tweets:\n",
    "                    tweets.append(parsed_tweet)\n",
    "            else:\n",
    "                tweets.append(parsed_tweet)\n",
    "        # return parsed tweets\n",
    "        return tweets\n",
    "    except TweepError as e:\n",
    "        # print error (if any)\n",
    "        print(\"Error : \" + str(e))"
   ]
  },
  {
   "cell_type": "markdown",
   "metadata": {},
   "source": [
    "## 09.- Pull all tags on list TAGS"
   ]
  },
  {
   "cell_type": "code",
   "execution_count": null,
   "metadata": {},
   "outputs": [],
   "source": [
    "pd.set_option('display.line_width', 1200)\n",
    "pd.set_option('display.max_colwidth', -1)\n",
    "# initialize list of tweets\n",
    "tweets = []\n",
    "# get all tweets from the list of TAGS\n",
    "for i, tag in enumerate(TAGS):\n",
    "    tweets = get_tweets(query = tag, max_tweets = MAX_TWEETS)"
   ]
  },
  {
   "cell_type": "code",
   "execution_count": 17,
   "metadata": {},
   "outputs": [],
   "source": [
    "df_tweets = pd.DataFrame(data=tweets, columns=['sentiment', 'text']).drop_duplicates()"
   ]
  },
  {
   "cell_type": "code",
   "execution_count": 18,
   "metadata": {},
   "outputs": [
    {
     "data": {
      "text/html": [
       "<div>\n",
       "<style scoped>\n",
       "    .dataframe tbody tr th:only-of-type {\n",
       "        vertical-align: middle;\n",
       "    }\n",
       "\n",
       "    .dataframe tbody tr th {\n",
       "        vertical-align: top;\n",
       "    }\n",
       "\n",
       "    .dataframe thead th {\n",
       "        text-align: right;\n",
       "    }\n",
       "</style>\n",
       "<table border=\"1\" class=\"dataframe\">\n",
       "  <thead>\n",
       "    <tr style=\"text-align: right;\">\n",
       "      <th></th>\n",
       "      <th>sentiment</th>\n",
       "      <th>text</th>\n",
       "    </tr>\n",
       "  </thead>\n",
       "  <tbody>\n",
       "    <tr>\n",
       "      <th>0</th>\n",
       "      <td>negative</td>\n",
       "      <td>always gets crushed leading into the us open. seems to be a pastime hobby for americans,…</td>\n",
       "    </tr>\n",
       "    <tr>\n",
       "      <th>1</th>\n",
       "      <td>neutral</td>\n",
       "      <td>the system has been designed to keep prices low so that this bubble economy can stay…</td>\n",
       "    </tr>\n",
       "    <tr>\n",
       "      <th>2</th>\n",
       "      <td>neutral</td>\n",
       "      <td>can't wait!</td>\n",
       "    </tr>\n",
       "    <tr>\n",
       "      <th>3</th>\n",
       "      <td>neutral</td>\n",
       "      <td>trump, the fed and the rest of the crew. their specialty is getting market to move on nothing but noi…</td>\n",
       "    </tr>\n",
       "    <tr>\n",
       "      <th>4</th>\n",
       "      <td>positive</td>\n",
       "      <td>no amount of trade talks in any reasonable time period is going to make up for the us net…</td>\n",
       "    </tr>\n",
       "  </tbody>\n",
       "</table>\n",
       "</div>"
      ],
      "text/plain": [
       "  sentiment  \\\n",
       "0  negative   \n",
       "1  neutral    \n",
       "2  neutral    \n",
       "3  neutral    \n",
       "4  positive   \n",
       "\n",
       "                                                                                                     text  \n",
       "0  always gets crushed leading into the us open. seems to be a pastime hobby for americans,…               \n",
       "1  the system has been designed to keep prices low so that this bubble economy can stay…                   \n",
       "2  can't wait!                                                                                             \n",
       "3  trump, the fed and the rest of the crew. their specialty is getting market to move on nothing but noi…  \n",
       "4  no amount of trade talks in any reasonable time period is going to make up for the us net…              "
      ]
     },
     "execution_count": 18,
     "metadata": {},
     "output_type": "execute_result"
    }
   ],
   "source": [
    "df_tweets.head()"
   ]
  },
  {
   "cell_type": "code",
   "execution_count": 19,
   "metadata": {},
   "outputs": [
    {
     "name": "stdout",
     "output_type": "stream",
     "text": [
      "Positive Tweets: 1154\n",
      "Negative Tweets: 420\n",
      "Neutral  Tweets: 1368\n"
     ]
    }
   ],
   "source": [
    "print(\"Positive Tweets: {}\".format(df_tweets[ df_tweets['sentiment'] == 'positive'].shape[0]))\n",
    "print(\"Negative Tweets: {}\".format(df_tweets[ df_tweets['sentiment'] == 'negative'].shape[0]))\n",
    "print(\"Neutral  Tweets: {}\".format(df_tweets[ df_tweets['sentiment'] == 'neutral'].shape[0]))"
   ]
  },
  {
   "cell_type": "markdown",
   "metadata": {},
   "source": [
    "## 10.- Summarize sentiment on tweets and Report"
   ]
  },
  {
   "cell_type": "code",
   "execution_count": null,
   "metadata": {},
   "outputs": [],
   "source": [
    "# picking positive tweets from tweets\n",
    "ptweets = [tweet for tweet in tweets if tweet['sentiment'] == 'positive']\n",
    "# percentage of positive tweets\n",
    "print(\"Positive tweets percentage: {}\".format(100*len(ptweets)/len(tweets)))\n",
    "# picking negative tweets from tweets\n",
    "ntweets = [tweet for tweet in tweets if tweet['sentiment'] == 'negative']\n",
    "# percentage of negative tweets\n",
    "print(\"Negative tweets percentage: {}\".format(100*len(ntweets)/len(tweets)))\n",
    "# percentage of neutral tweets\n",
    "print(\"Neutral tweets percentage: {}\".format(100*(len(tweets) - len(ntweets) - len(ptweets))/len(tweets)))\n",
    "\n",
    "# printing first 5 positive tweets\n",
    "print(\"\\n\\n======================================================\")\n",
    "print(\"total positive tweets={}\".format(len(ptweets)))\n",
    "print(\"(first 5) Positive tweets:\")\n",
    "for tweet in ptweets[:5]:\n",
    "    print(tweet['text'])\n",
    "\n",
    "# printing first 5 negative tweets\n",
    "print(\"\\n\\n======================================================\")\n",
    "print(\"total negative tweets={}\".format(len(ntweets)))\n",
    "print(\"(first 5) Negative tweets:\")\n",
    "for tweet in ntweets[:5]:\n",
    "    print(tweet['text'])\n"
   ]
  },
  {
   "cell_type": "markdown",
   "metadata": {},
   "source": [
    "## 11.- Visualization of Results"
   ]
  },
  {
   "cell_type": "code",
   "execution_count": null,
   "metadata": {},
   "outputs": [],
   "source": [
    "# visualization with wordcloud\n",
    "def wordcloud(tweets, col):\n",
    "    stopwords = set(STOPWORDS)\n",
    "    wordcloud = WordCloud(width=1600, height=800, \n",
    "                          background_color=\"white\", \n",
    "                          stopwords=stopwords, \n",
    "                          random_state = 123).generate(\" \".join([t for t in tweets[col]]))\n",
    "    plt.figure(figsize=(20,10), facecolor='k')\n",
    "    plt.title(\"Common Words on Tweets of Oil & Gas SuperMajors\")\n",
    "    plt.imshow(wordcloud)\n",
    "    plt.axis(\"off\")\n",
    "    plt.tight_layout(pad=0)\n",
    "    plt.show()"
   ]
  },
  {
   "cell_type": "markdown",
   "metadata": {},
   "source": [
    "### 11.1- Visualizing most common words in a cloud "
   ]
  },
  {
   "cell_type": "code",
   "execution_count": null,
   "metadata": {},
   "outputs": [],
   "source": [
    "wordcloud(df_tweets, 'text')"
   ]
  },
  {
   "cell_type": "markdown",
   "metadata": {},
   "source": [
    "### 11.2- Visualizing most common sentiment present in the tweets"
   ]
  },
  {
   "cell_type": "code",
   "execution_count": null,
   "metadata": {},
   "outputs": [],
   "source": [
    "wordcloud(df_tweets, 'sentiment')"
   ]
  },
  {
   "cell_type": "code",
   "execution_count": 21,
   "metadata": {},
   "outputs": [],
   "source": [
    "# define the number of max features as 1000 and use Tokenizer to vectorize and convert text into Sequences so the network can deal with it as input.\n",
    "max_features = 1000\n",
    "# keras.preprocessing.text.Tokenizer(num_words=None, filters='!\"#$%&()*+,-./:;<=>?@[\\]^_`{|}~ ', \n",
    "#                                    lower=True, split=' ', char_level=False, oov_token=None)\n",
    "tokenizer = Tokenizer(num_words=max_features, split=' ')\n",
    "tokenizer.fit_on_texts(df_tweets['text'])\n",
    "X = tokenizer.texts_to_sequences(df_tweets['text'])\n",
    "X = pad_sequences(X)"
   ]
  },
  {
   "cell_type": "code",
   "execution_count": 22,
   "metadata": {},
   "outputs": [
    {
     "data": {
      "text/html": [
       "<div>\n",
       "<style scoped>\n",
       "    .dataframe tbody tr th:only-of-type {\n",
       "        vertical-align: middle;\n",
       "    }\n",
       "\n",
       "    .dataframe tbody tr th {\n",
       "        vertical-align: top;\n",
       "    }\n",
       "\n",
       "    .dataframe thead th {\n",
       "        text-align: right;\n",
       "    }\n",
       "</style>\n",
       "<table border=\"1\" class=\"dataframe\">\n",
       "  <thead>\n",
       "    <tr style=\"text-align: right;\">\n",
       "      <th></th>\n",
       "      <th>sentiment</th>\n",
       "      <th>text</th>\n",
       "    </tr>\n",
       "  </thead>\n",
       "  <tbody>\n",
       "    <tr>\n",
       "      <th>0</th>\n",
       "      <td>negative</td>\n",
       "      <td>always gets crushed leading into the us open. seems to be a pastime hobby for americans,…</td>\n",
       "    </tr>\n",
       "    <tr>\n",
       "      <th>1</th>\n",
       "      <td>neutral</td>\n",
       "      <td>the system has been designed to keep prices low so that this bubble economy can stay…</td>\n",
       "    </tr>\n",
       "    <tr>\n",
       "      <th>2</th>\n",
       "      <td>neutral</td>\n",
       "      <td>can't wait!</td>\n",
       "    </tr>\n",
       "    <tr>\n",
       "      <th>3</th>\n",
       "      <td>neutral</td>\n",
       "      <td>trump, the fed and the rest of the crew. their specialty is getting market to move on nothing but noi…</td>\n",
       "    </tr>\n",
       "    <tr>\n",
       "      <th>4</th>\n",
       "      <td>positive</td>\n",
       "      <td>no amount of trade talks in any reasonable time period is going to make up for the us net…</td>\n",
       "    </tr>\n",
       "  </tbody>\n",
       "</table>\n",
       "</div>"
      ],
      "text/plain": [
       "  sentiment  \\\n",
       "0  negative   \n",
       "1  neutral    \n",
       "2  neutral    \n",
       "3  neutral    \n",
       "4  positive   \n",
       "\n",
       "                                                                                                     text  \n",
       "0  always gets crushed leading into the us open. seems to be a pastime hobby for americans,…               \n",
       "1  the system has been designed to keep prices low so that this bubble economy can stay…                   \n",
       "2  can't wait!                                                                                             \n",
       "3  trump, the fed and the rest of the crew. their specialty is getting market to move on nothing but noi…  \n",
       "4  no amount of trade talks in any reasonable time period is going to make up for the us net…              "
      ]
     },
     "execution_count": 22,
     "metadata": {},
     "output_type": "execute_result"
    }
   ],
   "source": [
    "df_tweets.head()"
   ]
  },
  {
   "cell_type": "code",
   "execution_count": 23,
   "metadata": {},
   "outputs": [
    {
     "data": {
      "text/plain": [
       "(2942, 28)"
      ]
     },
     "execution_count": 23,
     "metadata": {},
     "output_type": "execute_result"
    }
   ],
   "source": [
    "X.shape"
   ]
  },
  {
   "cell_type": "code",
   "execution_count": 24,
   "metadata": {},
   "outputs": [
    {
     "data": {
      "text/plain": [
       "array([[  0,   0,   0,   0,   0,   0,   0,   0,   0,   0,   0,   0,   0,\n",
       "          0,   0, 523, 333, 911, 144,   1,  22, 277, 912,   2,  26,   6,\n",
       "          8,   7],\n",
       "       [  0,   0,   0,   0,   0,   0,   0,   0,   0,   0,   0,   0,   0,\n",
       "          0,   0,   1, 913,  36,  77,   2, 429,  98, 291,  71,  20,  15,\n",
       "        524,  47],\n",
       "       [  0,   0,   0,   0,   0,   0,   0,   0,   0,   0,   0,   0,   0,\n",
       "          0,   0,   0,   0,   0,   0,   0,   0,   0,   0,   0,   0,   0,\n",
       "        278, 471],\n",
       "       [  0,   0,   0,   0,   0,   0,   0,   0,   0,   0,   0,   0,   0,\n",
       "        131,   1,   3,   1,   5,   1,  53,   9, 292,  85,   2, 525,  10,\n",
       "        677,  51],\n",
       "       [  0,   0,   0,   0,   0,   0,   0,   0,   0,   0,   0,   0,   0,\n",
       "         69,   5, 142, 472,   4, 172,  86,   9, 176,   2, 135,  46,   8,\n",
       "          1,  22],\n",
       "       [  0,   0,   0,   0,   0,   0,   0,   0,   0,   0,   0,   0,   0,\n",
       "          0,   0,   0,  71, 598,   9, 161,  22,   9,  99,   1, 334,   5,\n",
       "         17, 396]])"
      ]
     },
     "execution_count": 24,
     "metadata": {},
     "output_type": "execute_result"
    }
   ],
   "source": [
    "X[:6]"
   ]
  },
  {
   "cell_type": "code",
   "execution_count": 25,
   "metadata": {},
   "outputs": [
    {
     "name": "stdout",
     "output_type": "stream",
     "text": [
      "_________________________________________________________________\n",
      "Layer (type)                 Output Shape              Param #   \n",
      "=================================================================\n",
      "embedding_1 (Embedding)      (None, 28, 128)           128000    \n",
      "_________________________________________________________________\n",
      "spatial_dropout1d_1 (Spatial (None, 28, 128)           0         \n",
      "_________________________________________________________________\n",
      "lstm_1 (LSTM)                (None, 128)               131584    \n",
      "_________________________________________________________________\n",
      "dropout_1 (Dropout)          (None, 128)               0         \n",
      "_________________________________________________________________\n",
      "dense_1 (Dense)              (None, 3)                 387       \n",
      "=================================================================\n",
      "Total params: 259,971\n",
      "Trainable params: 259,971\n",
      "Non-trainable params: 0\n",
      "_________________________________________________________________\n",
      "None\n"
     ]
    }
   ],
   "source": [
    "# compose the LSTM network\n",
    "embed_dim = 128\n",
    "lstm_out = 128\n",
    "\n",
    "model = Sequential()\n",
    "model.add(Embedding(max_features, embed_dim, input_length = X.shape[1]))\n",
    "model.add(SpatialDropout1D(0.4))  # was 0.7\n",
    "model.add(LSTM(lstm_out, dropout=0.4, recurrent_dropout=0.4)) # was 0.2\n",
    "model.add(Dropout(0.4))\n",
    "model.add(Dense(3, activation='softmax'))\n",
    "model.compile(loss = 'categorical_crossentropy', optimizer='rmsprop', metrics = ['accuracy'])\n",
    "print(model.summary())"
   ]
  },
  {
   "cell_type": "code",
   "execution_count": 26,
   "metadata": {},
   "outputs": [
    {
     "name": "stdout",
     "output_type": "stream",
     "text": [
      "(2353, 28) (2353, 3)\n",
      "(589, 28) (589, 3)\n"
     ]
    }
   ],
   "source": [
    "# create train and test dataset\n",
    "Y = pd.get_dummies(df_tweets['sentiment']).values\n",
    "X_train, X_test, Y_train, Y_test = train_test_split(X, Y, test_size = 0.20, random_state = 42)\n",
    "print(X_train.shape, Y_train.shape)\n",
    "print(X_test.shape, Y_test.shape)"
   ]
  },
  {
   "cell_type": "code",
   "execution_count": 27,
   "metadata": {},
   "outputs": [
    {
     "name": "stdout",
     "output_type": "stream",
     "text": [
      "Train on 2117 samples, validate on 236 samples\n",
      "Epoch 1/30\n",
      " - 4s - loss: 1.0088 - acc: 0.4837 - val_loss: 0.9436 - val_acc: 0.5297\n",
      "Epoch 2/30\n",
      " - 1s - loss: 0.9562 - acc: 0.5668 - val_loss: 0.9457 - val_acc: 0.5127\n",
      "Epoch 3/30\n",
      " - 1s - loss: 0.9068 - acc: 0.5867 - val_loss: 0.8827 - val_acc: 0.5720\n",
      "Epoch 4/30\n",
      " - 1s - loss: 0.8069 - acc: 0.6651 - val_loss: 0.8120 - val_acc: 0.6822\n",
      "Epoch 5/30\n",
      " - 1s - loss: 0.7069 - acc: 0.7052 - val_loss: 0.7531 - val_acc: 0.6822\n",
      "Epoch 6/30\n",
      " - 1s - loss: 0.6125 - acc: 0.7577 - val_loss: 0.8647 - val_acc: 0.6737\n",
      "Epoch 7/30\n",
      " - 1s - loss: 0.5623 - acc: 0.7827 - val_loss: 0.7052 - val_acc: 0.7288\n",
      "Epoch 8/30\n",
      " - 1s - loss: 0.5099 - acc: 0.8087 - val_loss: 0.7209 - val_acc: 0.7161\n",
      "Epoch 9/30\n",
      " - 1s - loss: 0.4439 - acc: 0.8389 - val_loss: 0.7510 - val_acc: 0.7415\n",
      "Epoch 10/30\n",
      " - 1s - loss: 0.4279 - acc: 0.8418 - val_loss: 0.7144 - val_acc: 0.7458\n",
      "Epoch 11/30\n",
      " - 2s - loss: 0.3910 - acc: 0.8607 - val_loss: 0.6951 - val_acc: 0.7669\n",
      "Epoch 12/30\n",
      " - 1s - loss: 0.3897 - acc: 0.8644 - val_loss: 0.6841 - val_acc: 0.7754\n",
      "Epoch 13/30\n",
      " - 1s - loss: 0.3612 - acc: 0.8715 - val_loss: 0.7775 - val_acc: 0.7627\n",
      "Epoch 14/30\n",
      " - 1s - loss: 0.3455 - acc: 0.8725 - val_loss: 0.7149 - val_acc: 0.7458\n",
      "Epoch 15/30\n",
      " - 1s - loss: 0.3141 - acc: 0.8885 - val_loss: 0.7494 - val_acc: 0.7839\n",
      "Epoch 16/30\n",
      " - 1s - loss: 0.3083 - acc: 0.8871 - val_loss: 0.7322 - val_acc: 0.7881\n",
      "Epoch 17/30\n",
      " - 2s - loss: 0.3045 - acc: 0.8880 - val_loss: 0.7293 - val_acc: 0.7881\n",
      "Epoch 18/30\n",
      " - 1s - loss: 0.2827 - acc: 0.8932 - val_loss: 0.7801 - val_acc: 0.7331\n",
      "Epoch 19/30\n",
      " - 1s - loss: 0.2564 - acc: 0.9093 - val_loss: 0.7925 - val_acc: 0.7627\n",
      "Epoch 20/30\n",
      " - 1s - loss: 0.2629 - acc: 0.8989 - val_loss: 0.7962 - val_acc: 0.7712\n",
      "Epoch 21/30\n",
      " - 1s - loss: 0.2364 - acc: 0.9131 - val_loss: 0.7896 - val_acc: 0.7500\n",
      "Epoch 22/30\n",
      " - 1s - loss: 0.2433 - acc: 0.9145 - val_loss: 0.8072 - val_acc: 0.7712\n",
      "Epoch 23/30\n",
      " - 1s - loss: 0.2407 - acc: 0.9197 - val_loss: 0.8077 - val_acc: 0.7669\n",
      "Epoch 24/30\n",
      " - 1s - loss: 0.2303 - acc: 0.9169 - val_loss: 0.8173 - val_acc: 0.7966\n",
      "Epoch 25/30\n",
      " - 1s - loss: 0.2305 - acc: 0.9117 - val_loss: 0.8291 - val_acc: 0.7966\n",
      "Epoch 26/30\n",
      " - 1s - loss: 0.2173 - acc: 0.9254 - val_loss: 0.8782 - val_acc: 0.7669\n",
      "Epoch 27/30\n",
      " - 1s - loss: 0.2118 - acc: 0.9216 - val_loss: 0.8849 - val_acc: 0.7458\n",
      "Epoch 28/30\n",
      " - 1s - loss: 0.2114 - acc: 0.9254 - val_loss: 0.9063 - val_acc: 0.7712\n",
      "Epoch 29/30\n",
      " - 1s - loss: 0.1924 - acc: 0.9301 - val_loss: 0.9539 - val_acc: 0.7500\n",
      "Epoch 30/30\n",
      " - 1s - loss: 0.1825 - acc: 0.9372 - val_loss: 0.9266 - val_acc: 0.7627\n"
     ]
    }
   ],
   "source": [
    "# train the network\n",
    "batch_size = 64\n",
    "epochs = 30  # original epochs=7\n",
    "history = model.fit(X_train, Y_train, epochs = epochs, \\\n",
    "                    batch_size=batch_size, verbose = 2, validation_split=0.10)"
   ]
  },
  {
   "cell_type": "code",
   "execution_count": 28,
   "metadata": {},
   "outputs": [
    {
     "name": "stdout",
     "output_type": "stream",
     "text": [
      "589/589 [==============================] - 0s 352us/step\n",
      "Test set\n",
      "  Loss: 0.945\n",
      "  Accuracy: 0.788\n"
     ]
    }
   ],
   "source": [
    "# accuracy on test dataset\n",
    "accr = model.evaluate(X_test, Y_test)\n",
    "print('Test set\\n  Loss: {:0.3f}\\n  Accuracy: {:0.3f}'.format(accr[0], accr[1]))"
   ]
  },
  {
   "cell_type": "code",
   "execution_count": 29,
   "metadata": {},
   "outputs": [
    {
     "data": {
      "image/png": "[encoded data removed]",
      "text/plain": [
       "<Figure size 1152x576 with 2 Axes>"
      ]
     },
     "metadata": {},
     "output_type": "display_data"
    }
   ],
   "source": [
    "# display results\n",
    "import matplotlib.pyplot as plt\n",
    "%matplotlib inline\n",
    "\n",
    "acc = history.history['acc']\n",
    "val_acc = history.history['val_acc']\n",
    "loss = history.history['loss']\n",
    "val_loss = history.history['val_loss']\n",
    "\n",
    "epochs = range(1, len(acc) + 1)\n",
    "\n",
    "fig = plt.figure(figsize=(16, 8))\n",
    "fig.subplots_adjust(hspace=0.4, wspace=0.4)\n",
    "plt.subplot(121)\n",
    "plt.plot(epochs, acc, 'bo', label='Training acc')\n",
    "plt.plot(epochs, val_acc, 'r', label='Validation acc')\n",
    "plt.title('Training and validation accuracy')\n",
    "plt.legend()\n",
    "\n",
    "\n",
    "plt.subplot(122)\n",
    "plt.plot(epochs, loss, 'bo', label='Training loss')\n",
    "plt.plot(epochs, val_loss, 'r', label='Validation loss')\n",
    "plt.title('Training and validation loss')\n",
    "plt.legend()\n",
    "\n",
    "plt.show()"
   ]
  },
  {
   "cell_type": "code",
   "execution_count": 30,
   "metadata": {},
   "outputs": [
    {
     "name": "stdout",
     "output_type": "stream",
     "text": [
      "[[  0   0   0   0   0   0   0   0   0   0   0   0   0   0   0   0   0   0\n",
      "    0 153   5  22   9  30  30  45   5  22]]\n",
      "negative\n"
     ]
    }
   ],
   "source": [
    "# test a different tweet\n",
    "twt = ['Meetings: Because none of us is as dumb as all of us.']\n",
    "#vectorizing the tweet by the pre-fitted tokenizer instance\n",
    "twt = tokenizer.texts_to_sequences(twt)\n",
    "#padding the tweet to have exactly the same shape as `embedding_2` input\n",
    "twt = pad_sequences(twt, maxlen=28, dtype='int32', value=0)\n",
    "print(twt)\n",
    "sentiment = model.predict(twt, batch_size=1, verbose = 2)[0]\n",
    "if(np.argmax(sentiment) == 0):\n",
    "    print(\"negative\")\n",
    "elif (np.argmax(sentiment) == 1):\n",
    "    print(\"positive\")\n",
    "else:\n",
    "    print(\"neutral\")"
   ]
  },
  {
   "cell_type": "code",
   "execution_count": null,
   "metadata": {},
   "outputs": [],
   "source": []
  }
 ],
 "metadata": {
  "kernelspec": {
   "display_name": "Python 3.6",
   "language": "python",
   "name": "python3"
  },
  "language_info": {
   "codemirror_mode": {
    "name": "ipython",
    "version": 3
   },
   "file_extension": ".py",
   "mimetype": "text/x-python",
   "name": "python",
   "nbconvert_exporter": "python",
   "pygments_lexer": "ipython3",
   "version": "3.6.4"
  }
 },
 "nbformat": 4,
 "nbformat_minor": 2
}
